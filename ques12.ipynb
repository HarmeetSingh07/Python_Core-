{
 "cells": [
  {
   "cell_type": "markdown",
   "id": "beaeddb1",
   "metadata": {},
   "source": [
    "Define a class named American and its subclass NewYorker."
   ]
  },
  {
   "cell_type": "code",
   "execution_count": 1,
   "id": "8d68429c",
   "metadata": {},
   "outputs": [
    {
     "name": "stdout",
     "output_type": "stream",
     "text": [
      "i'm form newyork\n"
     ]
    }
   ],
   "source": [
    "class America:\n",
    "    def __init__(self,printNationality):\n",
    "        self.printNationality = printNationality\n",
    "class Newyork(America):\n",
    "    def state(self):\n",
    "        print(f\"i'm form {self.printNationality}\")\n",
    "        \n",
    "obj = Newyork('newyork')\n",
    "obj.state()"
   ]
  }
 ],
 "metadata": {
  "kernelspec": {
   "display_name": "Python 3",
   "language": "python",
   "name": "python3"
  },
  "language_info": {
   "codemirror_mode": {
    "name": "ipython",
    "version": 3
   },
   "file_extension": ".py",
   "mimetype": "text/x-python",
   "name": "python",
   "nbconvert_exporter": "python",
   "pygments_lexer": "ipython3",
   "version": "3.8.8"
  }
 },
 "nbformat": 4,
 "nbformat_minor": 5
}
