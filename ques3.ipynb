{
 "cells": [
  {
   "cell_type": "markdown",
   "id": "9c15bc81",
   "metadata": {},
   "source": [
    "Write a program that computes the net amount of a bank account based a transaction log\n",
    "from console input. The transaction log format is shown as following:\n",
    "D 100\n",
    "W 200\n",
    "--D means deposit while W means withdrawal."
   ]
  },
  {
   "cell_type": "code",
   "execution_count": null,
   "id": "133e07f8",
   "metadata": {},
   "outputs": [],
   "source": [
    "D = input('enter deposits ').split(',')\n",
    "W = input('enter withdrwals ').split(',')\n",
    "a=[]\n",
    "b=[]\n",
    "def balance(x,y):\n",
    "    for i in x:\n",
    "        i = int(i)\n",
    "        a.append(i)\n",
    "    for j in y:\n",
    "        j = int(j)\n",
    "        b.append(j)\n",
    "    print('balance is ',sum(a)-sum(b))\n",
    "\n",
    "balance(D,W)"
   ]
  }
 ],
 "metadata": {
  "kernelspec": {
   "display_name": "Python 3",
   "language": "python",
   "name": "python3"
  },
  "language_info": {
   "codemirror_mode": {
    "name": "ipython",
    "version": 3
   },
   "file_extension": ".py",
   "mimetype": "text/x-python",
   "name": "python",
   "nbconvert_exporter": "python",
   "pygments_lexer": "ipython3",
   "version": "3.8.8"
  }
 },
 "nbformat": 4,
 "nbformat_minor": 5
}
