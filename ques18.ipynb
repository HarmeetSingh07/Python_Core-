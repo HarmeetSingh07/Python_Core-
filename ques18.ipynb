{
 "cells": [
  {
   "cell_type": "markdown",
   "id": "ca0ae8ac",
   "metadata": {},
   "source": [
    "Define a class Person and its two child classes: Male and Female. All classes have a method \"getGender\" which can print \"Male\" for Male class and \"Female\" for Female class."
   ]
  },
  {
   "cell_type": "code",
   "execution_count": null,
   "id": "90ec5b9d",
   "metadata": {},
   "outputs": [],
   "source": [
    "class person:\n",
    "    def __init__(self,gender):\n",
    "        self.gender = gender\n",
    "class boy(person):\n",
    "    def sex(self):\n",
    "        print(f'sex is {self.gender}')\n",
    "class girl(person):\n",
    "    def sex (self):\n",
    "        print(f'sex is {self.gender}')\n",
    "        \n",
    "b = boy('male')\n",
    "g = girl('female')\n",
    "for i in (b,g):\n",
    "    i.sex()"
   ]
  }
 ],
 "metadata": {
  "kernelspec": {
   "display_name": "Python 3",
   "language": "python",
   "name": "python3"
  },
  "language_info": {
   "codemirror_mode": {
    "name": "ipython",
    "version": 3
   },
   "file_extension": ".py",
   "mimetype": "text/x-python",
   "name": "python",
   "nbconvert_exporter": "python",
   "pygments_lexer": "ipython3",
   "version": "3.8.8"
  }
 },
 "nbformat": 4,
 "nbformat_minor": 5
}
