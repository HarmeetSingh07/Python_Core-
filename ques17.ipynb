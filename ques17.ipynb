{
 "cells": [
  {
   "cell_type": "markdown",
   "id": "badde744",
   "metadata": {},
   "source": [
    "Assuming that we have some email addresses in the \"username@companyname.com\" format, please write program to print the company name of a given email address. Both user names and company names are composed of letters only.\n",
    "If the following email address is given as input to the program: Chandra@analytixlabs.com\n",
    "Then, the output of the program should be: analytixlabs\n",
    "In case of input data being supplied to the question, it should be assumed to be a console input."
   ]
  },
  {
   "cell_type": "code",
   "execution_count": null,
   "id": "15c27683",
   "metadata": {},
   "outputs": [],
   "source": [
    "def company_name(x):\n",
    "    a=''\n",
    "    b=''\n",
    "    for i in x:\n",
    "        if i == '@':\n",
    "            break\n",
    "        else:\n",
    "            a+=i\n",
    "    x1=x.replace(a,'')\n",
    "    for i in x1:\n",
    "        if i=='.':\n",
    "            break\n",
    "        else:\n",
    "            b+=i\n",
    "    b1=b.replace('@','')\n",
    "    print(b1)\n",
    "company_name(x)"
   ]
  }
 ],
 "metadata": {
  "kernelspec": {
   "display_name": "Python 3",
   "language": "python",
   "name": "python3"
  },
  "language_info": {
   "codemirror_mode": {
    "name": "ipython",
    "version": 3
   },
   "file_extension": ".py",
   "mimetype": "text/x-python",
   "name": "python",
   "nbconvert_exporter": "python",
   "pygments_lexer": "ipython3",
   "version": "3.8.8"
  }
 },
 "nbformat": 4,
 "nbformat_minor": 5
}
