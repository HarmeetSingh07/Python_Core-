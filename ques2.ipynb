{
 "cells": [
  {
   "cell_type": "markdown",
   "id": "b882b734",
   "metadata": {},
   "source": [
    "Write a program that calculates and prints the value according to the given formula:\n",
    "Q = Square root of [(2 * C * D)/H]\n",
    "Following are the fixed values of C and H: C is 50. H is 30.\n",
    "D is the variable whose values should be input to your program in a comma-separated sequence."
   ]
  },
  {
   "cell_type": "code",
   "execution_count": 1,
   "id": "e67e9402",
   "metadata": {},
   "outputs": [
    {
     "name": "stdout",
     "output_type": "stream",
     "text": [
      "enter depht 100,150,180\n",
      "333.3333333333333\n",
      "500.0\n",
      "600.0\n"
     ]
    }
   ],
   "source": [
    "global C \n",
    "C=50\n",
    "global H\n",
    "H=30\n",
    "D = (input('enter depht ').split(','))\n",
    "for i in D:\n",
    "    i = int(i)\n",
    "    print(float(2*C*i)/H)"
   ]
  }
 ],
 "metadata": {
  "kernelspec": {
   "display_name": "Python 3",
   "language": "python",
   "name": "python3"
  },
  "language_info": {
   "codemirror_mode": {
    "name": "ipython",
    "version": 3
   },
   "file_extension": ".py",
   "mimetype": "text/x-python",
   "name": "python",
   "nbconvert_exporter": "python",
   "pygments_lexer": "ipython3",
   "version": "3.8.8"
  }
 },
 "nbformat": 4,
 "nbformat_minor": 5
}
