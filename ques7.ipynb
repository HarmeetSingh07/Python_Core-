{
 "cells": [
  {
   "cell_type": "markdown",
   "id": "3d7c03e2",
   "metadata": {},
   "source": [
    "Write a program that computes the value of a+aa+aaa+aaaa with a given digit as the value of a."
   ]
  },
  {
   "cell_type": "code",
   "execution_count": null,
   "id": "e190a05e",
   "metadata": {},
   "outputs": [],
   "source": [
    "a= (input('enter value of a '))\n",
    "\n",
    "x = 0\n",
    "for i in range(1,5):\n",
    "    b = a*i\n",
    "    b = int(b)\n",
    "    x+=b\n",
    "print(x)  "
   ]
  }
 ],
 "metadata": {
  "kernelspec": {
   "display_name": "Python 3",
   "language": "python",
   "name": "python3"
  },
  "language_info": {
   "codemirror_mode": {
    "name": "ipython",
    "version": 3
   },
   "file_extension": ".py",
   "mimetype": "text/x-python",
   "name": "python",
   "nbconvert_exporter": "python",
   "pygments_lexer": "ipython3",
   "version": "3.8.8"
  }
 },
 "nbformat": 4,
 "nbformat_minor": 5
}
