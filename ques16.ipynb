{
 "cells": [
  {
   "cell_type": "markdown",
   "id": "501fb027",
   "metadata": {},
   "source": [
    "Assuming that we have some email addresses in the \"username@companyname.com\" format, please write program to print the user name of a given email address. Both user names and company names are composed of letters only"
   ]
  },
  {
   "cell_type": "code",
   "execution_count": null,
   "id": "e31491d5",
   "metadata": {},
   "outputs": [],
   "source": [
    "x = input()\n",
    "def username(x):\n",
    "    a = ''\n",
    "    for i in x:\n",
    "        if i == '@':\n",
    "            break\n",
    "        else:\n",
    "            a+=i.lower()\n",
    "    print(a)\n",
    "\n",
    "username(x)"
   ]
  }
 ],
 "metadata": {
  "kernelspec": {
   "display_name": "Python 3",
   "language": "python",
   "name": "python3"
  },
  "language_info": {
   "codemirror_mode": {
    "name": "ipython",
    "version": 3
   },
   "file_extension": ".py",
   "mimetype": "text/x-python",
   "name": "python",
   "nbconvert_exporter": "python",
   "pygments_lexer": "ipython3",
   "version": "3.8.8"
  }
 },
 "nbformat": 4,
 "nbformat_minor": 5
}
