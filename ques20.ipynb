{
 "cells": [
  {
   "cell_type": "markdown",
   "id": "9a274dd1",
   "metadata": {},
   "source": [
    "By using list comprehension, please write a program to print the list after removing the\n",
    "0th,4th,5th numbers in [12,24,35,70,88,120,155]."
   ]
  },
  {
   "cell_type": "code",
   "execution_count": null,
   "id": "2cb5e644",
   "metadata": {},
   "outputs": [],
   "source": [
    "x = [12,24,35,70,88,120,155]\n",
    "[x.pop(i) for i in x if i==x[0] or i==x[4] or i==x[5]]"
   ]
  }
 ],
 "metadata": {
  "kernelspec": {
   "display_name": "Python 3",
   "language": "python",
   "name": "python3"
  },
  "language_info": {
   "codemirror_mode": {
    "name": "ipython",
    "version": 3
   },
   "file_extension": ".py",
   "mimetype": "text/x-python",
   "name": "python",
   "nbconvert_exporter": "python",
   "pygments_lexer": "ipython3",
   "version": "3.8.8"
  }
 },
 "nbformat": 4,
 "nbformat_minor": 5
}
