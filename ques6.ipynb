{
 "cells": [
  {
   "cell_type": "markdown",
   "id": "5d0f6585",
   "metadata": {},
   "source": [
    "Write a program that accepts a sentence and calculate the number of letters and digits and and calculate the number of upper case letters and lower case letters."
   ]
  },
  {
   "cell_type": "code",
   "execution_count": null,
   "id": "479557f8",
   "metadata": {},
   "outputs": [],
   "source": [
    "def check(a):\n",
    "    a = input('enter a sentence ')\n",
    "    b=c=d=e=0\n",
    "    for i in a:\n",
    "        if i.isdigit():\n",
    "            b+=1\n",
    "        elif i.isalpha():\n",
    "            c+=1\n",
    "        elif i.isupper():\n",
    "            d+=1\n",
    "        elif i.islower():\n",
    "            e+=1\n",
    "    print('no. of integers ',b)\n",
    "    print('no. of alphabets ',c)\n",
    "\n",
    "def checks(a):\n",
    "    a = input('enter a sentence ')\n",
    "    d=e=0\n",
    "    for i in a:\n",
    "        if i.isupper():\n",
    "            d+=1\n",
    "        elif i.islower():\n",
    "            e+=1\n",
    "    print('no. of upper case digits ',d)\n",
    "    print('no. of lower case digits ',e)\n",
    "check(a) \n",
    "checks(a)\n"
   ]
  }
 ],
 "metadata": {
  "kernelspec": {
   "display_name": "Python 3",
   "language": "python",
   "name": "python3"
  },
  "language_info": {
   "codemirror_mode": {
    "name": "ipython",
    "version": 3
   },
   "file_extension": ".py",
   "mimetype": "text/x-python",
   "name": "python",
   "nbconvert_exporter": "python",
   "pygments_lexer": "ipython3",
   "version": "3.8.8"
  }
 },
 "nbformat": 4,
 "nbformat_minor": 5
}
