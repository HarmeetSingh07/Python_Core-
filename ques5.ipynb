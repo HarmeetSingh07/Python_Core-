{
 "cells": [
  {
   "cell_type": "markdown",
   "id": "ee40b7b5",
   "metadata": {},
   "source": [
    "Write a program which accepts a sequence of comma separated 4 digit binary numbers as its\n",
    "input and then check whether they are divisible by 5 or not. The numbers that are divisible by 5\n",
    "are to be printed in a comma separated sequence"
   ]
  },
  {
   "cell_type": "code",
   "execution_count": null,
   "id": "ccb5bbbf",
   "metadata": {},
   "outputs": [],
   "source": [
    "a = input('numbers ').split(',')\n",
    "for i in a:\n",
    "    if len(i) == 4:\n",
    "        i = int(i)\n",
    "        if i%5==0:\n",
    "            print(i)"
   ]
  }
 ],
 "metadata": {
  "kernelspec": {
   "display_name": "Python 3",
   "language": "python",
   "name": "python3"
  },
  "language_info": {
   "codemirror_mode": {
    "name": "ipython",
    "version": 3
   },
   "file_extension": ".py",
   "mimetype": "text/x-python",
   "name": "python",
   "nbconvert_exporter": "python",
   "pygments_lexer": "ipython3",
   "version": "3.8.8"
  }
 },
 "nbformat": 4,
 "nbformat_minor": 5
}
