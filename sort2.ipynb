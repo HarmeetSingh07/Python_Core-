{
 "cells": [
  {
   "cell_type": "markdown",
   "id": "98e50a2e",
   "metadata": {},
   "source": [
    " Write a program that accepts a sequence of whitespace separated words as input and prints\n",
    "the words after removing all duplicate words and sorting them alphanumerically"
   ]
  },
  {
   "cell_type": "code",
   "execution_count": 1,
   "id": "57a0dd5a",
   "metadata": {},
   "outputs": [
    {
     "name": "stdout",
     "output_type": "stream",
     "text": [
      "['again', 'and', 'hello', 'makes', 'perfect', 'practice', 'world']\n"
     ]
    }
   ],
   "source": [
    "x = 'hello world and practice makes perfect and hello world again'\n",
    "a =[]\n",
    "for i in x.split(' '):\n",
    "    if i not in a:\n",
    "        a.append(i)\n",
    "print(sorted(a))"
   ]
  }
 ],
 "metadata": {
  "kernelspec": {
   "display_name": "Python 3",
   "language": "python",
   "name": "python3"
  },
  "language_info": {
   "codemirror_mode": {
    "name": "ipython",
    "version": 3
   },
   "file_extension": ".py",
   "mimetype": "text/x-python",
   "name": "python",
   "nbconvert_exporter": "python",
   "pygments_lexer": "ipython3",
   "version": "3.8.8"
  }
 },
 "nbformat": 4,
 "nbformat_minor": 5
}
