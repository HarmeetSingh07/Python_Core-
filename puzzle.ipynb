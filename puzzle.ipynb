{
 "cells": [
  {
   "cell_type": "markdown",
   "id": "8ab7e1d9",
   "metadata": {},
   "source": [
    "Write a program to solve a classic ancient Chinese puzzle:\n",
    "We count 35 heads and 94 legs among the chickens and rabbits in a farm. How many rabbits and\n",
    "how many chickens do we have?"
   ]
  },
  {
   "cell_type": "code",
   "execution_count": 1,
   "id": "dfe1b1f3",
   "metadata": {},
   "outputs": [
    {
     "name": "stdout",
     "output_type": "stream",
     "text": [
      "enter no. of legs 94\n",
      "enter no. of heads 35\n",
      "no. of chicken 23\n",
      "no. of rabbits 12\n"
     ]
    }
   ],
   "source": [
    "legs = int(input('enter no. of legs '))\n",
    "heads = int(input('enter no. of heads '))\n",
    "r = (legs - 2*heads)//2 \n",
    "c = heads - r\n",
    "print('no. of chicken',c)\n",
    "print('no. of rabbits',r)\n"
   ]
  }
 ],
 "metadata": {
  "kernelspec": {
   "display_name": "Python 3",
   "language": "python",
   "name": "python3"
  },
  "language_info": {
   "codemirror_mode": {
    "name": "ipython",
    "version": 3
   },
   "file_extension": ".py",
   "mimetype": "text/x-python",
   "name": "python",
   "nbconvert_exporter": "python",
   "pygments_lexer": "ipython3",
   "version": "3.8.8"
  }
 },
 "nbformat": 4,
 "nbformat_minor": 5
}
