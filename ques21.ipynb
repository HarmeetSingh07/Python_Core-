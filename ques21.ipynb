{
 "cells": [
  {
   "cell_type": "markdown",
   "id": "a1225d11",
   "metadata": {},
   "source": [
    "Write a function to compute 5/0 and use try/except to catch the exceptions.\n",
    "Hints: Use try/except to catch exceptions.\n"
   ]
  },
  {
   "cell_type": "code",
   "execution_count": null,
   "id": "16a0d1ca",
   "metadata": {},
   "outputs": [],
   "source": [
    "try:\n",
    "    b = int(input())\n",
    "    c = 5/b\n",
    "    print(c)\n",
    "except:\n",
    "    print('try again')\n",
    "else:\n",
    "    print('ans is',c)"
   ]
  }
 ],
 "metadata": {
  "kernelspec": {
   "display_name": "Python 3",
   "language": "python",
   "name": "python3"
  },
  "language_info": {
   "codemirror_mode": {
    "name": "ipython",
    "version": 3
   },
   "file_extension": ".py",
   "mimetype": "text/x-python",
   "name": "python",
   "nbconvert_exporter": "python",
   "pygments_lexer": "ipython3",
   "version": "3.8.8"
  }
 },
 "nbformat": 4,
 "nbformat_minor": 5
}
