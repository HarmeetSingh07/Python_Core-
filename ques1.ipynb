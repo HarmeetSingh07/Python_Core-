{
 "cells": [
  {
   "cell_type": "markdown",
   "id": "f3e1dbe4",
   "metadata": {},
   "source": [
    "Define a class with a generator which can iterate the numbers, which are divisible by 7,\n",
    "between a given range 0 and n.\n"
   ]
  },
  {
   "cell_type": "code",
   "execution_count": null,
   "id": "bc62182e",
   "metadata": {},
   "outputs": [],
   "source": [
    "class div:\n",
    "    def __init__(self,nos):\n",
    "        self.nos = nos\n",
    "    def divs(self):\n",
    "        for i in range(1,self.nos):\n",
    "            if (i%7==0)== True:\n",
    "                yeild(i)      \n",
    "obj = div(110)\n",
    "obj.divs()"
   ]
  }
 ],
 "metadata": {
  "kernelspec": {
   "display_name": "Python 3",
   "language": "python",
   "name": "python3"
  },
  "language_info": {
   "codemirror_mode": {
    "name": "ipython",
    "version": 3
   },
   "file_extension": ".py",
   "mimetype": "text/x-python",
   "name": "python",
   "nbconvert_exporter": "python",
   "pygments_lexer": "ipython3",
   "version": "3.8.8"
  }
 },
 "nbformat": 4,
 "nbformat_minor": 5
}
