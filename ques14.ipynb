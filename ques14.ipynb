{
 "cells": [
  {
   "cell_type": "markdown",
   "id": "98836c51",
   "metadata": {},
   "source": [
    "Define a class named Rectangle which can be constructed by a length and width. The\n",
    "Rectangle class has a method which can compute the area."
   ]
  },
  {
   "cell_type": "code",
   "execution_count": 1,
   "id": "6c65fb43",
   "metadata": {},
   "outputs": [
    {
     "name": "stdout",
     "output_type": "stream",
     "text": [
      "area is 20\n"
     ]
    }
   ],
   "source": [
    "class rectangle:\n",
    "    def __init__(self,lenght,weidth):\n",
    "        self.lenght = lenght\n",
    "        self.weidth = weidth\n",
    "    def area(self):\n",
    "        self.area = self.lenght*self.weidth\n",
    "        print(f\"area is {self.area}\")\n",
    "obj = rectangle(4,5)\n",
    "obj.area()"
   ]
  }
 ],
 "metadata": {
  "kernelspec": {
   "display_name": "Python 3",
   "language": "python",
   "name": "python3"
  },
  "language_info": {
   "codemirror_mode": {
    "name": "ipython",
    "version": 3
   },
   "file_extension": ".py",
   "mimetype": "text/x-python",
   "name": "python",
   "nbconvert_exporter": "python",
   "pygments_lexer": "ipython3",
   "version": "3.8.8"
  }
 },
 "nbformat": 4,
 "nbformat_minor": 5
}
