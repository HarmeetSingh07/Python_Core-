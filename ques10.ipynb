{
 "cells": [
  {
   "cell_type": "markdown",
   "id": "ef0e6753",
   "metadata": {},
   "source": [
    "Write a program which can filter() to make a list whose elements are even number between 1 and 20 and square of these numbers (both included).\n"
   ]
  },
  {
   "cell_type": "code",
   "execution_count": null,
   "id": "1c52a177",
   "metadata": {},
   "outputs": [],
   "source": [
    "list(filter(lambda x:x%2==0, range(1,21)))\n",
    "list(map(lambda x:x**2, range(1,21)))"
   ]
  }
 ],
 "metadata": {
  "kernelspec": {
   "display_name": "Python 3",
   "language": "python",
   "name": "python3"
  },
  "language_info": {
   "codemirror_mode": {
    "name": "ipython",
    "version": 3
   },
   "file_extension": ".py",
   "mimetype": "text/x-python",
   "name": "python",
   "nbconvert_exporter": "python",
   "pygments_lexer": "ipython3",
   "version": "3.8.8"
  }
 },
 "nbformat": 4,
 "nbformat_minor": 5
}
