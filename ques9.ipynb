{
 "cells": [
  {
   "cell_type": "markdown",
   "id": "1db26704",
   "metadata": {},
   "source": [
    "Define a function which can generate a dictionary where the keys are numbers between 1\n",
    "and 20 (both included) and the values are square of keys. The function should just print the keys\n",
    "only."
   ]
  },
  {
   "cell_type": "code",
   "execution_count": null,
   "id": "8ab83dc9",
   "metadata": {},
   "outputs": [],
   "source": [
    "def value(x):\n",
    "    a = {x:x**2 for x in range(1,x+1)}\n",
    "    for i in a:\n",
    "        print(i,'key')\n",
    "        print(a[i],'value')\n",
    "        \n",
    "value(20)\n"
   ]
  }
 ],
 "metadata": {
  "kernelspec": {
   "display_name": "Python 3",
   "language": "python",
   "name": "python3"
  },
  "language_info": {
   "codemirror_mode": {
    "name": "ipython",
    "version": 3
   },
   "file_extension": ".py",
   "mimetype": "text/x-python",
   "name": "python",
   "nbconvert_exporter": "python",
   "pygments_lexer": "ipython3",
   "version": "3.8.8"
  }
 },
 "nbformat": 4,
 "nbformat_minor": 5
}
