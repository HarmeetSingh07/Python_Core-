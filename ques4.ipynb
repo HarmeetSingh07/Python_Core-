{
 "cells": [
  {
   "cell_type": "markdown",
   "id": "4b9a10ad",
   "metadata": {},
   "source": [
    "Define a class which has at least two methods:\n",
    "getString: to get a string from console input\n",
    "printString: to print the string in upper case"
   ]
  },
  {
   "cell_type": "code",
   "execution_count": null,
   "id": "24e4e2b4",
   "metadata": {},
   "outputs": [],
   "source": [
    "class string:\n",
    "    def __init__(self,strs):\n",
    "        self.strs = strs\n",
    "    def op(self):\n",
    "        print((self.strs),(self.strs.upper()))\n",
    "obj=string(input('something'))\n",
    "obj.op()"
   ]
  }
 ],
 "metadata": {
  "kernelspec": {
   "display_name": "Python 3",
   "language": "python",
   "name": "python3"
  },
  "language_info": {
   "codemirror_mode": {
    "name": "ipython",
    "version": 3
   },
   "file_extension": ".py",
   "mimetype": "text/x-python",
   "name": "python",
   "nbconvert_exporter": "python",
   "pygments_lexer": "ipython3",
   "version": "3.8.8"
  }
 },
 "nbformat": 4,
 "nbformat_minor": 5
}
