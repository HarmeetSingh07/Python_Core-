{
 "cells": [
  {
   "cell_type": "markdown",
   "id": "e4604aa4",
   "metadata": {},
   "source": [
    "Define a class named American which has a static method called printNationality.\n",
    "Hints: Use @staticmethod decorator to define class static method."
   ]
  },
  {
   "cell_type": "code",
   "execution_count": 1,
   "id": "28f055f7",
   "metadata": {},
   "outputs": [
    {
     "name": "stdout",
     "output_type": "stream",
     "text": [
      "NewYork\n"
     ]
    }
   ],
   "source": [
    "def staticmethod(x):\n",
    "    print('NewYork')\n",
    "class America:\n",
    "    def __init__(self,nationality):\n",
    "        self.nationality = nationality\n",
    "    @staticmethod\n",
    "    def cities(self):\n",
    "        print((self.nationality))\n",
    "obj = America('ny')\n",
    "obj.cities"
   ]
  }
 ],
 "metadata": {
  "kernelspec": {
   "display_name": "Python 3",
   "language": "python",
   "name": "python3"
  },
  "language_info": {
   "codemirror_mode": {
    "name": "ipython",
    "version": 3
   },
   "file_extension": ".py",
   "mimetype": "text/x-python",
   "name": "python",
   "nbconvert_exporter": "python",
   "pygments_lexer": "ipython3",
   "version": "3.8.8"
  }
 },
 "nbformat": 4,
 "nbformat_minor": 5
}
