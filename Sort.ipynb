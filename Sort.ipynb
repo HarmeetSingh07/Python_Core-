{
 "cells": [
  {
   "cell_type": "markdown",
   "id": "c90a0a62",
   "metadata": {},
   "source": [
    "19. You are required to write a program to sort the (name, age, height) tuples by ascending\n",
    "order where name is string, age and height are numbers. The tuples are input by console. "
   ]
  },
  {
   "cell_type": "code",
   "execution_count": null,
   "id": "816deda7",
   "metadata": {},
   "outputs": [],
   "source": [
    "#19\n",
    "def sort(x):\n",
    "    c = []\n",
    "    for i in x:\n",
    "        i= tuple(i.split(','))\n",
    "        c.append(i)\n",
    "    print(sorted(c))\n",
    "    \n",
    "    \n",
    "        \n",
    "            \n",
    "        \n",
    "    \n",
    "sort(input().split(' '))\n"
   ]
  }
 ],
 "metadata": {
  "kernelspec": {
   "display_name": "Python 3",
   "language": "python",
   "name": "python3"
  },
  "language_info": {
   "codemirror_mode": {
    "name": "ipython",
    "version": 3
   },
   "file_extension": ".py",
   "mimetype": "text/x-python",
   "name": "python",
   "nbconvert_exporter": "python",
   "pygments_lexer": "ipython3",
   "version": "3.8.8"
  }
 },
 "nbformat": 4,
 "nbformat_minor": 5
}
