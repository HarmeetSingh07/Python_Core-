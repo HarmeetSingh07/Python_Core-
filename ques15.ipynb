{
 "cells": [
  {
   "cell_type": "markdown",
   "id": "bc182ff6",
   "metadata": {},
   "source": [
    "Define a class named Shape and its subclass Square. The Square class has an init function\n",
    "which takes a length as argument. Both classes have a area function which can print the area of\n",
    "the shape where Shape's area is 0 by default."
   ]
  },
  {
   "cell_type": "code",
   "execution_count": null,
   "id": "a1d67cf5",
   "metadata": {},
   "outputs": [],
   "source": [
    "class shape:\n",
    "    def __init__(self,lenght):\n",
    "        self.lenght= lenght\n",
    "    def area(self):\n",
    "        print('area of shape is 0')\n",
    "class square:\n",
    "    def __init__(self,lenght):\n",
    "        super().__init__()\n",
    "        shape.__init__(self,lenght)\n",
    "        \n",
    "    def area(self):\n",
    "        self.area = self.lenght**2\n",
    "        print(f\"area of square {self.area}\")\n",
    "        \n",
    "s = shape(10)\n",
    "sq = square(10)\n",
    "for i in (s,sq):\n",
    "    i.area()"
   ]
  }
 ],
 "metadata": {
  "kernelspec": {
   "display_name": "Python 3",
   "language": "python",
   "name": "python3"
  },
  "language_info": {
   "codemirror_mode": {
    "name": "ipython",
    "version": 3
   },
   "file_extension": ".py",
   "mimetype": "text/x-python",
   "name": "python",
   "nbconvert_exporter": "python",
   "pygments_lexer": "ipython3",
   "version": "3.8.8"
  }
 },
 "nbformat": 4,
 "nbformat_minor": 5
}
